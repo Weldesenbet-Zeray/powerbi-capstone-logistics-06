{
 "cells": [
  {
   "cell_type": "code",
   "execution_count": null,
   "id": "2d6af3c7",
   "metadata": {},
   "outputs": [],
   "source": [
    "# Nairobi Logistics Data Generator Script (Exact Replica)\n",
    "import pandas as pd\n",
    "import numpy as np\n",
    "import random\n",
    "from faker import Faker\n",
    "\n",
    "# Initialize Faker and set seeds\n",
    "fake = Faker()\n",
    "np.random.seed(42)\n",
    "random.seed(42)\n",
    "Faker.seed(42)\n",
    "\n",
    "# Parameters\n",
    "num_drivers = 100\n",
    "num_vehicles = 50\n",
    "num_routes = 200\n",
    "num_deliveries = 10000\n",
    "num_weather = 500"
   ]
  },
  {
   "cell_type": "code",
   "execution_count": null,
   "id": "d02d3b37",
   "metadata": {},
   "outputs": [],
   "source": [
    "# Nairobi Locations and GPS Coordinates\n",
    "nairobi_locations = {\n",
    "    \"Westlands\": (-1.2648, 36.8148),\n",
    "    \"Kasarani\": (-1.2321, 36.8991),\n",
    "    \"Embakasi\": (-1.3176, 36.8943),\n",
    "    \"CBD\": (-1.2833, 36.8167),\n",
    "    \"Kilimani\": (-1.2921, 36.7834),\n",
    "    \"Karen\": (-1.3201, 36.7206),\n",
    "    \"Eastleigh\": (-1.2763, 36.8541),\n",
    "    \"Rongai\": (-1.3936, 36.7512),\n",
    "    \"Upper Hill\": (-1.2986, 36.8077),\n",
    "    \"South B\": (-1.3097, 36.8481),\n",
    "    \"Parklands\": (-1.2584, 36.8165),\n",
    "    \"Lang'ata\": (-1.3626, 36.7442)\n",
    "}\n",
    "location_names = list(nairobi_locations.keys())"
   ]
  },
  {
   "cell_type": "code",
   "execution_count": null,
   "id": "62c24ba9",
   "metadata": {},
   "outputs": [],
   "source": [
    "# Driver Dimension\n",
    "drivers = pd.DataFrame({\n",
    "    'DriverID': range(1, num_drivers + 1),\n",
    "    'Name': [fake.name() for _ in range(num_drivers)],\n",
    "    'Region': [random.choice(location_names) for _ in range(num_drivers)],\n",
    "    'ExperienceYears': np.random.randint(1, 11, num_drivers)\n",
    "})\n"
   ]
  },
  {
   "cell_type": "code",
   "execution_count": null,
   "id": "a458ed4d",
   "metadata": {},
   "outputs": [],
   "source": [
    "# Vehicle Dimension\n",
    "vehicles = pd.DataFrame({\n",
    "    'VehicleID': range(1, num_vehicles + 1),\n",
    "    'Type': [random.choice(['Van', 'Truck', 'Bike']) for _ in range(num_vehicles)],\n",
    "    'FuelEfficiency_L_per_100km': np.round(np.random.uniform(3, 25, num_vehicles), 2),\n",
    "    'EmissionFactor_gCO2_per_km': np.round(np.random.uniform(60, 300, num_vehicles), 1)\n",
    "})\n"
   ]
  },
  {
   "cell_type": "code",
   "execution_count": null,
   "id": "439e802e",
   "metadata": {},
   "outputs": [],
   "source": [
    "# Route Dimension with GPS\n",
    "def generate_route(i):\n",
    "    start = random.choice(location_names)\n",
    "    end = random.choice([loc for loc in location_names if loc != start])\n",
    "    return {\n",
    "        'RouteID': i,\n",
    "        'Start_Location': start,\n",
    "        'End_Location': end,\n",
    "        'DistanceKM': round(random.uniform(5, 25), 1),\n",
    "        'Start_Lat': nairobi_locations[start][0],\n",
    "        'Start_Lon': nairobi_locations[start][1],\n",
    "        'End_Lat': nairobi_locations[end][0],\n",
    "        'End_Lon': nairobi_locations[end][1],\n",
    "    }\n",
    "\n",
    "routes = pd.DataFrame([generate_route(i) for i in range(1, num_routes + 1)])"
   ]
  },
  {
   "cell_type": "code",
   "execution_count": null,
   "id": "8461638d",
   "metadata": {},
   "outputs": [],
   "source": [
    "# Weather Dimension\n",
    "weather = pd.DataFrame({\n",
    "    'WeatherID': range(1, num_weather + 1),\n",
    "    'DateTime': [fake.date_time_between(start_date='-3y', end_date='now') for _ in range(num_weather)],\n",
    "    'Region': [random.choice(location_names) for _ in range(num_weather)],\n",
    "    'RainLevel_mm': np.round(np.random.uniform(0, 50, num_weather), 1),\n",
    "    'WindSpeed_kmph': np.round(np.random.uniform(5, 80, num_weather), 1)\n",
    "})\n"
   ]
  },
  {
   "cell_type": "code",
   "execution_count": null,
   "id": "285ef8df",
   "metadata": {},
   "outputs": [],
   "source": [
    "# Deliveries (Fact Table)\n",
    "deliveries = pd.DataFrame({\n",
    "    'DeliveryID': range(num_deliveries),\n",
    "    'DriverID': np.random.choice(drivers['DriverID'], num_deliveries),\n",
    "    'VehicleID': np.random.choice(vehicles['VehicleID'], num_deliveries),\n",
    "    'RouteID': np.random.choice(routes['RouteID'], num_deliveries),\n",
    "    'StartTime': [fake.date_time_between(start_date='-3y', end_date='-1d') for _ in range(num_deliveries)]\n",
    "})\n",
    "\n",
    "# Join route info and calculate EndTime\n",
    "deliveries = deliveries.merge(routes[['RouteID', 'DistanceKM']], on='RouteID', how='left')\n",
    "deliveries['Duration_Minutes'] = deliveries['DistanceKM'] * np.random.uniform(1.2, 2.0, num_deliveries)\n",
    "deliveries['EndTime'] = deliveries['StartTime'] + pd.to_timedelta(deliveries['Duration_Minutes'], unit='m')\n",
    "deliveries.drop(columns='Duration_Minutes', inplace=True)"
   ]
  },
  {
   "cell_type": "code",
   "execution_count": null,
   "id": "24c2e9db",
   "metadata": {},
   "outputs": [],
   "source": [
    "# Inject 5% missing values for cleaning practice\n",
    "for col in ['DriverID', 'VehicleID', 'StartTime', 'EndTime']:\n",
    "    missing_idx = deliveries.sample(frac=0.05).index\n",
    "    deliveries.loc[missing_idx, col] = np.nan"
   ]
  },
  {
   "cell_type": "code",
   "execution_count": null,
   "id": "05962de8",
   "metadata": {},
   "outputs": [],
   "source": [
    "# Save to CSV files\n",
    "drivers.to_csv(\"drivers.csv\", index=False)\n",
    "vehicles.to_csv(\"vehicles.csv\", index=False)\n",
    "routes.to_csv(\"routes.csv\", index=False)\n",
    "weather.to_csv(\"weather.csv\", index=False)\n",
    "deliveries.to_csv(\"deliveries.csv\", index=False)\n"
   ]
  }
 ],
 "metadata": {
  "language_info": {
   "name": "python"
  }
 },
 "nbformat": 4,
 "nbformat_minor": 5
}
